{
  "nbformat": 4,
  "nbformat_minor": 0,
  "metadata": {
    "colab": {
      "name": "NoVolunteer.ipynb",
      "provenance": [],
      "collapsed_sections": [],
      "authorship_tag": "ABX9TyMwQSpfERJPz01zDiKwTnxg",
      "include_colab_link": true
    },
    "kernelspec": {
      "name": "python3",
      "display_name": "Python 3"
    }
  },
  "cells": [
    {
      "cell_type": "markdown",
      "metadata": {
        "id": "view-in-github",
        "colab_type": "text"
      },
      "source": [
        "<a href=\"https://colab.research.google.com/github/bobmhong/foo.bar/blob/master/NoVolunteer.ipynb\" target=\"_parent\"><img src=\"https://colab.research.google.com/assets/colab-badge.svg\" alt=\"Open In Colab\"/></a>"
      ]
    },
    {
      "cell_type": "markdown",
      "metadata": {
        "id": "xtUpIJ2FJFAF"
      },
      "source": [
        "\n",
        "\n",
        "```\n",
        "Don't Get Volunteered!\n",
        "======================\n",
        "\n",
        "As a henchman on Commander Lambda's space station, you're expected to be resourceful, smart, and a quick thinker. It's not easy building a doomsday device and capturing bunnies at \n",
        "the same time, after all! In order to make sure that everyone working for her is sufficiently quick-witted, Commander Lambda has installed new flooring outside the henchman dormitories. It \n",
        "looks like a chessboard, and every morning and evening you have to solve a new movement puzzle in order to cross the floor. That would be fine if you got to be the rook or the queen, but \n",
        "instead, you have to be the knight. Worse, if you take too much time solving the puzzle, you get \"volunteered\" as a test subject for the LAMBCHOP doomsday device!\n",
        "\n",
        "To help yourself get to and from your bunk every day, write a function called solution(src, dest) which takes in two parameters: the source square, on which you start, and the destination \n",
        "square, which is where you need to land to solve the puzzle.  The function should return an integer representing the smallest number of moves it will take for you to travel from the source \n",
        "square to the destination square using a chess knight's moves (that is, two squares in any direction immediately followed by one square perpendicular to that direction, or vice versa, in \n",
        "an \"L\" shape).  Both the source and destination squares will be an integer between 0 and 63, inclusive, and are numbered like the example chessboard below:\n",
        "\n",
        "-------------------------\n",
        "| 0| 1| 2| 3| 4| 5| 6| 7|\n",
        "-------------------------\n",
        "| 8| 9|10|11|12|13|14|15|\n",
        "-------------------------\n",
        "|16|17|18|19|20|21|22|23|\n",
        "-------------------------\n",
        "|24|25|26|27|28|29|30|31|\n",
        "-------------------------\n",
        "|32|33|34|35|36|37|38|39|\n",
        "-------------------------\n",
        "|40|41|42|43|44|45|46|47|\n",
        "-------------------------\n",
        "|48|49|50|51|52|53|54|55|\n",
        "-------------------------\n",
        "|56|57|58|59|60|61|62|63|\n",
        "-------------------------\n",
        "\n",
        "Languages\n",
        "=========\n",
        "\n",
        "To provide a Python solution, edit solution.py\n",
        "To provide a Java solution, edit Solution.java\n",
        "\n",
        "Test cases\n",
        "==========\n",
        "Your code should pass the following test cases.\n",
        "Note that it may also be run against hidden test cases not shown here.\n",
        "\n",
        "-- Python cases --\n",
        "Input:\n",
        "solution.solution(0, 1)\n",
        "Output:\n",
        "    3\n",
        "\n",
        "Input:\n",
        "solution.solution(19, 36)\n",
        "Output:\n",
        "    1\n",
        "\n",
        "-- Java cases --\n",
        "Input:\n",
        "Solution.solution(19, 36)\n",
        "Output:\n",
        "    1\n",
        "\n",
        "Input:\n",
        "Solution.solution(0, 1)\n",
        "Output:\n",
        "    3\n",
        "\n",
        "Use verify [file] to test your solution and see how it does. When you are finished editing your code, use submit [file] to submit your answer. If your solution passes the test cases, it will be removed from your home folder.\n",
        "```\n",
        "\n"
      ]
    },
    {
      "cell_type": "code",
      "metadata": {
        "id": "h_Jyl4qfFnMF"
      },
      "source": [
        "squares_per_side=8\n",
        "move_options = [(1,2), (1, -2), (-1, 2), (-1, -2), (2, 1), (2, -1), (-2, 1), (-2, -1)]"
      ],
      "execution_count": 15,
      "outputs": []
    },
    {
      "cell_type": "code",
      "metadata": {
        "colab": {
          "base_uri": "https://localhost:8080/"
        },
        "id": "iUvJGlD39CGo",
        "outputId": "46a1bee5-eb4f-4709-e95a-d9cdd14d58ba"
      },
      "source": [
        "def square_to_coord(square):\r\n",
        "  row = int(square/squares_per_side)\r\n",
        "  col = square % squares_per_side\r\n",
        "  return (row, col)\r\n",
        "\r\n",
        "print(square_to_coord(0))\r\n",
        "print(square_to_coord(63))\r\n",
        "print(square_to_coord(27))\r\n",
        "\r\n"
      ],
      "execution_count": 16,
      "outputs": [
        {
          "output_type": "stream",
          "text": [
            "(0, 0)\n",
            "(7, 7)\n",
            "(3, 3)\n"
          ],
          "name": "stdout"
        }
      ]
    },
    {
      "cell_type": "code",
      "metadata": {
        "colab": {
          "base_uri": "https://localhost:8080/"
        },
        "id": "DiGSmnO0DVaM",
        "outputId": "881ed212-45df-456f-f93f-04ad98423358"
      },
      "source": [
        "def coord_to_square(coord):\n",
        "  row = coord[0]\n",
        "  col = coord[1]\n",
        "  return squares_per_side * row + col\n",
        "\n",
        "print(coord_to_square((0,0)))\n",
        "print(coord_to_square((3,5)))\n",
        "print(coord_to_square((7,7)))"
      ],
      "execution_count": 17,
      "outputs": [
        {
          "output_type": "stream",
          "text": [
            "0\n",
            "29\n",
            "63\n"
          ],
          "name": "stdout"
        }
      ]
    },
    {
      "cell_type": "code",
      "metadata": {
        "colab": {
          "base_uri": "https://localhost:8080/"
        },
        "id": "srOrHSmyE2vJ",
        "outputId": "7674e45a-7904-4c67-8af7-becf4b3975d9"
      },
      "source": [
        "def new_coord(start_coord, move_offset):\n",
        "  return (start_coord[0] + move_offset[0], start_coord[1] + move_offset[1])\n",
        "\n",
        "print(new_coord((0,0), (1,2)))\n",
        "print(new_coord((0,0), (-1,2)))"
      ],
      "execution_count": 18,
      "outputs": [
        {
          "output_type": "stream",
          "text": [
            "(1, 2)\n",
            "(-1, 2)\n"
          ],
          "name": "stdout"
        }
      ]
    },
    {
      "cell_type": "code",
      "metadata": {
        "colab": {
          "base_uri": "https://localhost:8080/"
        },
        "id": "DLOE2sfIHKAz",
        "outputId": "04783711-50c8-4c89-e842-e536a8ffb157"
      },
      "source": [
        "def validate_position(coord):\n",
        "  if 0 <= coord[0] < squares_per_side and 0 <= coord[1] < squares_per_side:\n",
        "    return True\n",
        "  else:\n",
        "    return False\n",
        "\n",
        "print(validate_position((0,0)))\n",
        "print(validate_position((7,7)))\n",
        "print(validate_position((7,8)))\n",
        "print(validate_position((0,100)))\n",
        "print(validate_position((-2,1)))\n",
        "print(validate_position((2,-11)))"
      ],
      "execution_count": 19,
      "outputs": [
        {
          "output_type": "stream",
          "text": [
            "True\n",
            "True\n",
            "False\n",
            "False\n",
            "False\n",
            "False\n"
          ],
          "name": "stdout"
        }
      ]
    },
    {
      "cell_type": "code",
      "metadata": {
        "colab": {
          "base_uri": "https://localhost:8080/"
        },
        "id": "MTBzWtb6IcY9",
        "outputId": "aef3aa08-4787-4593-abaa-563f6a61dc03"
      },
      "source": [
        "# given a single path, generate a list of possible paths based on move to options\n",
        "def possible_paths(current_path, move_to_options):\n",
        "\n",
        "  #print(f'current_path: {current_path}')\n",
        "  #print(f'move_to_options: {move_to_options}')\n",
        "  new_paths = []\n",
        "  p = current_path\n",
        "  for m in move_to_options:\n",
        "    new_path = p.copy()\n",
        "    new_path.append(m)\n",
        "    #print(f'new_path: {coord_path_to_square_path(new_path)}')\n",
        "    new_paths.append(new_path)\n",
        "\n",
        "  return (new_paths)\n",
        "\n",
        "my_path = [(0,0), (1,2)]\n",
        "\n",
        "my_options = [(3, 5), (3, 1), (1, 5), (1, 1), (4, 4), (4, 2), (0, 4), (0, 2)]\n",
        "\n",
        "print(possible_paths(my_path, my_options))\n",
        "\n",
        "\n",
        "\n"
      ],
      "execution_count": 43,
      "outputs": [
        {
          "output_type": "stream",
          "text": [
            "[[(0, 0), (1, 2), (3, 5)], [(0, 0), (1, 2), (3, 1)], [(0, 0), (1, 2), (1, 5)], [(0, 0), (1, 2), (1, 1)], [(0, 0), (1, 2), (4, 4)], [(0, 0), (1, 2), (4, 2)], [(0, 0), (1, 2), (0, 4)], [(0, 0), (1, 2), (0, 2)]]\n"
          ],
          "name": "stdout"
        }
      ]
    },
    {
      "cell_type": "code",
      "metadata": {
        "colab": {
          "base_uri": "https://localhost:8080/"
        },
        "id": "giO2Q29DIyU6",
        "outputId": "495c7531-d49b-405b-e446-2407bdd2b839"
      },
      "source": [
        "\n",
        "def generate_target_moves(start_coord):\n",
        "  all_moves = [new_coord(start_coord, x) for x in move_options]\n",
        "  valid_moves = list(filter(validate_position, all_moves))\n",
        "  return(valid_moves)\n",
        "\n",
        "possible_coords = generate_target_moves(square_to_coord(19))\n",
        "\n",
        "print(possible_coords)"
      ],
      "execution_count": 30,
      "outputs": [
        {
          "output_type": "stream",
          "text": [
            "[(3, 5), (3, 1), (1, 5), (1, 1), (4, 4), (4, 2), (0, 4), (0, 2)]\n"
          ],
          "name": "stdout"
        }
      ]
    },
    {
      "cell_type": "code",
      "metadata": {
        "colab": {
          "base_uri": "https://localhost:8080/"
        },
        "id": "_vOl8fWZM2Az",
        "outputId": "26255e88-ea94-47ae-f5dc-403220222308"
      },
      "source": [
        "# a path is a list of coordinates visited in sequence\n",
        "def next_path(current_path, next_coord):\n",
        "  new_path = current_path.copy()\n",
        "  new_path.append(next_coord)\n",
        "  return new_path\n",
        "p = [(0,0)]\n",
        "print(p)\n",
        "n=(1,2)\n",
        "print(next_path(p, n))\n"
      ],
      "execution_count": 21,
      "outputs": [
        {
          "output_type": "stream",
          "text": [
            "[(0, 0)]\n",
            "[(0, 0), (1, 2)]\n"
          ],
          "name": "stdout"
        }
      ]
    },
    {
      "cell_type": "code",
      "metadata": {
        "id": "kTT6AAvI__-6"
      },
      "source": [
        "def coord_path_to_square_path(coord_path):\n",
        "  square_path=[]\n",
        "  for coord in coord_path:\n",
        "    square_path.append(coord_to_square(coord))\n",
        "  \n",
        "  return (square_path)"
      ],
      "execution_count": 22,
      "outputs": []
    },
    {
      "cell_type": "code",
      "metadata": {
        "id": "I-q-b8V_Kwh9"
      },
      "source": [
        "def visited_filter(coord, visited_coords):\n",
        "  if coord in visited_coords:\n",
        "    return True\n",
        "  else:\n",
        "    return False"
      ],
      "execution_count": 24,
      "outputs": []
    },
    {
      "cell_type": "code",
      "metadata": {
        "id": "fJ-HazrBJ7sy"
      },
      "source": [
        "def coord_paths_to_square_paths(coord_path_list):\n",
        "  square_paths = []\n",
        "\n",
        "  for coord_path in coord_path_list:\n",
        "    square_path = coord_path_to_square_path(coord_path)\n",
        "    if square_path:\n",
        "      square_paths.append(square_path)\n",
        "\n",
        "  return (square_paths)\n"
      ],
      "execution_count": 25,
      "outputs": []
    },
    {
      "cell_type": "code",
      "metadata": {
        "id": "NKDUTf9_FE60"
      },
      "source": [
        "def generate_paths_to_explore(path):\n",
        "  possible_coords = generate_target_moves(path[-1])\n",
        "  \n",
        "  # filter out coordinates already visited in this path\n",
        "  unvisited_coords = list(filter(lambda coord: coord not in path, possible_coords))\n",
        "  print(f'unvisited_coords: {list(map(lambda coord: coord_to_square(coord), unvisited_coords))}')\n",
        "\n",
        "  # build list of new paths to explore\n",
        "  new_paths = possible_paths(path, unvisited_coords)\n",
        "\n",
        "  return(new_paths)\n",
        "\n",
        "print(square_to_coord(19))\n",
        "print (generate_paths_to_explore([square_to_coord(19)]))\n",
        "\n",
        "\n",
        "\n"
      ],
      "execution_count": null,
      "outputs": []
    },
    {
      "cell_type": "code",
      "metadata": {
        "id": "kHmpD7vN1hcH"
      },
      "source": [
        "def explore_paths(move_number, dest_coord, current_paths, solutions):\n",
        "  \n",
        "  next_paths = []\n",
        "\n",
        "  print(f'move: {move_number} exploring paths: {coord_paths_to_square_paths(current_paths)}')\n",
        "  \n",
        "  for p in current_paths:\n",
        "    \n",
        "    print(f'evaluating path: {coord_path_to_square_path(p)}')\n",
        "\n",
        "    # last element in path is the current coordinate\n",
        "    current_coord = p[-1]    \n",
        "    #print(f'evaluating square: {coord_to_square(current_coord)}')\n",
        "\n",
        "    if current_coord == dest_coord:\n",
        "      # add path as a solution\n",
        "      print(f'*** Found a solution!: {coord_path_to_square_path(p)}')\n",
        "      solutions.append(p)\n",
        "      return(move_number)\n",
        "    else: \n",
        "      new_paths = generate_paths_to_explore(p)\n",
        "      if new_paths:\n",
        "        next_paths.extend(new_paths)\n",
        "    \n",
        "  #continue exploring if there's more paths and still looking for solution\n",
        "  if not solutions and next_paths:\n",
        "    move_number += 1\n",
        "    return(explore_paths(move_number, dest_coord, next_paths, solutions))\n",
        "  \n"
      ],
      "execution_count": 54,
      "outputs": []
    },
    {
      "cell_type": "code",
      "metadata": {
        "id": "IOnV2tNvmmCj"
      },
      "source": [
        "# src  - source square number\n",
        "# dest - dest square number\n",
        "def solution(src, dest):\n",
        "  src_coord = square_to_coord(src)\n",
        "  dest_coord = square_to_coord(dest)\n",
        "\n",
        "  print(f'src : {src} {src_coord}')\n",
        "  print(f'dest: {dest} {dest_coord}')\n",
        "\n",
        "  initial_paths = [[src_coord]]\n",
        "  solutions = []\n",
        "  move_number = 0 \n",
        "  \n",
        "  solution_steps = explore_paths(move_number, dest_coord, initial_paths, solutions)\n",
        "\n",
        "  final_solutions = coord_paths_to_square_paths(solutions)\n",
        "  print(f'square solutions: {final_solutions}')\n",
        "\n",
        "  path_lengths = list(map(lambda s: len(s), solutions))\n",
        "  print(f'path lengths: {path_lengths}')\n",
        "  \n",
        "  return(solution_steps)\n",
        "  \n",
        "\n",
        "\n"
      ],
      "execution_count": 51,
      "outputs": []
    },
    {
      "cell_type": "code",
      "metadata": {
        "colab": {
          "base_uri": "https://localhost:8080/"
        },
        "id": "MlRfdT9fFtD-",
        "outputId": "96fa76ea-d9a4-4fc2-eb24-f5883914396b"
      },
      "source": [
        "print (f'solved in: {solution(19,36)} step(s)')"
      ],
      "execution_count": 56,
      "outputs": [
        {
          "output_type": "stream",
          "text": [
            "src : 19 (2, 3)\n",
            "dest: 36 (4, 4)\n",
            "move: 0 exploring paths: [[19]]\n",
            "evaluating path: [19]\n",
            "unvisited_coords: [29, 25, 13, 9, 36, 34, 4, 2]\n",
            "move: 1 exploring paths: [[19, 29], [19, 25], [19, 13], [19, 9], [19, 36], [19, 34], [19, 4], [19, 2]]\n",
            "evaluating path: [19, 29]\n",
            "unvisited_coords: [39, 35, 23, 46, 44, 14, 12]\n",
            "evaluating path: [19, 25]\n",
            "unvisited_coords: [35, 42, 40, 10, 8]\n",
            "evaluating path: [19, 13]\n",
            "unvisited_coords: [23, 7, 3, 30, 28]\n",
            "evaluating path: [19, 9]\n",
            "unvisited_coords: [3, 26, 24]\n",
            "evaluating path: [19, 36]\n",
            "*** Found a solution!: [19, 36]\n",
            "square solutions: [[19, 36]]\n",
            "path lengths: [2]\n",
            "solved in: 1 step(s)\n"
          ],
          "name": "stdout"
        }
      ]
    },
    {
      "cell_type": "code",
      "metadata": {
        "id": "3KytjYiLFpN2",
        "colab": {
          "base_uri": "https://localhost:8080/"
        },
        "outputId": "2f866fbf-5091-403e-f4f1-b22c003fe4f6"
      },
      "source": [
        "print (f'solved in: {solution(0,1)} step(s)')"
      ],
      "execution_count": 57,
      "outputs": [
        {
          "output_type": "stream",
          "text": [
            "src : 0 (0, 0)\n",
            "dest: 1 (0, 1)\n",
            "move: 0 exploring paths: [[0]]\n",
            "evaluating path: [0]\n",
            "unvisited_coords: [10, 17]\n",
            "move: 1 exploring paths: [[0, 10], [0, 17]]\n",
            "evaluating path: [0, 10]\n",
            "unvisited_coords: [20, 16, 4, 27, 25]\n",
            "evaluating path: [0, 17]\n",
            "unvisited_coords: [27, 11, 34, 32, 2]\n",
            "move: 2 exploring paths: [[0, 10, 20], [0, 10, 16], [0, 10, 4], [0, 10, 27], [0, 10, 25], [0, 17, 27], [0, 17, 11], [0, 17, 34], [0, 17, 32], [0, 17, 2]]\n",
            "evaluating path: [0, 10, 20]\n",
            "unvisited_coords: [30, 26, 14, 37, 35, 5, 3]\n",
            "evaluating path: [0, 10, 16]\n",
            "unvisited_coords: [26, 33, 1]\n",
            "evaluating path: [0, 10, 4]\n",
            "unvisited_coords: [14, 21, 19]\n",
            "evaluating path: [0, 10, 27]\n",
            "unvisited_coords: [37, 33, 21, 17, 44, 42, 12]\n",
            "evaluating path: [0, 10, 25]\n",
            "unvisited_coords: [35, 19, 42, 40, 8]\n",
            "evaluating path: [0, 17, 27]\n",
            "unvisited_coords: [37, 33, 21, 44, 42, 12, 10]\n",
            "evaluating path: [0, 17, 11]\n",
            "unvisited_coords: [21, 5, 1, 28, 26]\n",
            "evaluating path: [0, 17, 34]\n",
            "unvisited_coords: [44, 40, 28, 24, 51, 49, 19]\n",
            "evaluating path: [0, 17, 32]\n",
            "unvisited_coords: [42, 26, 49]\n",
            "evaluating path: [0, 17, 2]\n",
            "unvisited_coords: [12, 8, 19]\n",
            "move: 3 exploring paths: [[0, 10, 20, 30], [0, 10, 20, 26], [0, 10, 20, 14], [0, 10, 20, 37], [0, 10, 20, 35], [0, 10, 20, 5], [0, 10, 20, 3], [0, 10, 16, 26], [0, 10, 16, 33], [0, 10, 16, 1], [0, 10, 4, 14], [0, 10, 4, 21], [0, 10, 4, 19], [0, 10, 27, 37], [0, 10, 27, 33], [0, 10, 27, 21], [0, 10, 27, 17], [0, 10, 27, 44], [0, 10, 27, 42], [0, 10, 27, 12], [0, 10, 25, 35], [0, 10, 25, 19], [0, 10, 25, 42], [0, 10, 25, 40], [0, 10, 25, 8], [0, 17, 27, 37], [0, 17, 27, 33], [0, 17, 27, 21], [0, 17, 27, 44], [0, 17, 27, 42], [0, 17, 27, 12], [0, 17, 27, 10], [0, 17, 11, 21], [0, 17, 11, 5], [0, 17, 11, 1], [0, 17, 11, 28], [0, 17, 11, 26], [0, 17, 34, 44], [0, 17, 34, 40], [0, 17, 34, 28], [0, 17, 34, 24], [0, 17, 34, 51], [0, 17, 34, 49], [0, 17, 34, 19], [0, 17, 32, 42], [0, 17, 32, 26], [0, 17, 32, 49], [0, 17, 2, 12], [0, 17, 2, 8], [0, 17, 2, 19]]\n",
            "evaluating path: [0, 10, 20, 30]\n",
            "unvisited_coords: [36, 47, 45, 15, 13]\n",
            "evaluating path: [0, 10, 20, 26]\n",
            "unvisited_coords: [36, 32, 16, 43, 41, 11, 9]\n",
            "evaluating path: [0, 10, 20, 14]\n",
            "unvisited_coords: [4, 31, 29]\n",
            "evaluating path: [0, 10, 20, 37]\n",
            "unvisited_coords: [47, 43, 31, 27, 54, 52, 22]\n",
            "evaluating path: [0, 10, 20, 35]\n",
            "unvisited_coords: [45, 41, 29, 25, 52, 50, 18]\n",
            "evaluating path: [0, 10, 20, 5]\n",
            "unvisited_coords: [15, 11, 22]\n",
            "evaluating path: [0, 10, 20, 3]\n",
            "unvisited_coords: [13, 9, 18]\n",
            "evaluating path: [0, 10, 16, 26]\n",
            "unvisited_coords: [36, 32, 20, 43, 41, 11, 9]\n",
            "evaluating path: [0, 10, 16, 33]\n",
            "unvisited_coords: [43, 27, 50, 48, 18]\n",
            "evaluating path: [0, 10, 16, 1]\n",
            "*** Found a solution!: [0, 10, 16, 1]\n",
            "square solutions: [[0, 10, 16, 1]]\n",
            "path lengths: [4]\n",
            "solved in: 3 step(s)\n"
          ],
          "name": "stdout"
        }
      ]
    }
  ]
}